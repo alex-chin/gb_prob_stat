{
 "cells": [
  {
   "cell_type": "code",
   "execution_count": null,
   "metadata": {
    "collapsed": true
   },
   "outputs": [],
   "source": []
  },
  {
   "cell_type": "markdown",
   "source": [
    "Выбрать тему для курсового проекта. Курсовой по желанию. Данные с kaggle.com\n",
    "Варианты тем:\n",
    "\n",
    "1. EDA (рассчитать описательные статистики + графический анализ с выводами)\n",
    "2. Тестирование гипотезы (условия применимости того или иного критерия проверить , можно с графиками+ провести тестирование, оформить вывод)\n",
    "3. Линейная регрессия (условия применимости метода проверить ,можно с графиками, построить модель, исследовать на статистическую значимость модель ,можно и коэффициенты (самостоятельное изучение), коэффициент детерминации)\n",
    "4. Однофакторный или двухфакторный дисперсионный анализ (обязательно условия применимости исследовать, провести анализ, оформить вывод)"
   ],
   "metadata": {
    "collapsed": false
   }
  },
  {
   "cell_type": "markdown",
   "source": [
    "Требования к оформлению : название темы, сопроводительный текст к действиям, что и почему делаете, какой вывод.\n",
    "Срок сдачи -до 07.09.21"
   ],
   "metadata": {
    "collapsed": false
   }
  },
  {
   "cell_type": "markdown",
   "source": [
    "Biomechanical features of orthopedic patients\n",
    "Classifying patients based on six features\n",
    "https://www.kaggle.com/uciml/biomechanical-features-of-orthopedic-patients?select=column_3C_weka.csv\n",
    "\n",
    "Первая задача состоит в том, чтобы отнести пациентов к одной из трех категорий: нормальные (100 пациентов), грыжа диска (60 пациентов) или спондилолистез (150 пациентов).\n",
    "Описание полей:\n",
    "\n",
    "Каждый пациент представлен в наборе данных шестью биомеханическими атрибутами, определяемыми формой и ориентацией таза и поясничного отдела позвоночника (каждый из них представляет собой столбец):\n",
    "\n",
    "- заболеваемость тазом (pelvic incidence)\n",
    "- наклон таза (pelvic tilt)\n",
    "- угол поясничного лордоза (lumbar lordosis angle)\n",
    "- крестцовый склон (sacral slope)\n",
    "- радиус таза (pelvic radius)\n",
    "- степень спондилолистеза (grade of spondylolisthesis)"
   ],
   "metadata": {
    "collapsed": false
   }
  },
  {
   "cell_type": "code",
   "execution_count": 3,
   "outputs": [],
   "source": [
    "import numpy as np\n",
    "import pandas as pd\n",
    "import pandas as pnd\n",
    "import matplotlib as plt"
   ],
   "metadata": {
    "collapsed": false,
    "pycharm": {
     "name": "#%%\n"
    }
   }
  },
  {
   "cell_type": "code",
   "execution_count": 4,
   "outputs": [],
   "source": [
    "PREP_DATASET = 'column_3C_weka.csv'\n"
   ],
   "metadata": {
    "collapsed": false,
    "pycharm": {
     "name": "#%%\n"
    }
   }
  },
  {
   "cell_type": "code",
   "execution_count": 5,
   "outputs": [
    {
     "data": {
      "text/plain": "   pelvic_incidence  pelvic_tilt  lumbar_lordosis_angle  sacral_slope  \\\n0         63.027817    22.552586              39.609117     40.475232   \n1         39.056951    10.060991              25.015378     28.995960   \n2         68.832021    22.218482              50.092194     46.613539   \n3         69.297008    24.652878              44.311238     44.644130   \n4         49.712859     9.652075              28.317406     40.060784   \n\n   pelvic_radius  degree_spondylolisthesis   class  \n0      98.672917                 -0.254400  Hernia  \n1     114.405425                  4.564259  Hernia  \n2     105.985135                 -3.530317  Hernia  \n3     101.868495                 11.211523  Hernia  \n4     108.168725                  7.918501  Hernia  ",
      "text/html": "<div>\n<style scoped>\n    .dataframe tbody tr th:only-of-type {\n        vertical-align: middle;\n    }\n\n    .dataframe tbody tr th {\n        vertical-align: top;\n    }\n\n    .dataframe thead th {\n        text-align: right;\n    }\n</style>\n<table border=\"1\" class=\"dataframe\">\n  <thead>\n    <tr style=\"text-align: right;\">\n      <th></th>\n      <th>pelvic_incidence</th>\n      <th>pelvic_tilt</th>\n      <th>lumbar_lordosis_angle</th>\n      <th>sacral_slope</th>\n      <th>pelvic_radius</th>\n      <th>degree_spondylolisthesis</th>\n      <th>class</th>\n    </tr>\n  </thead>\n  <tbody>\n    <tr>\n      <th>0</th>\n      <td>63.027817</td>\n      <td>22.552586</td>\n      <td>39.609117</td>\n      <td>40.475232</td>\n      <td>98.672917</td>\n      <td>-0.254400</td>\n      <td>Hernia</td>\n    </tr>\n    <tr>\n      <th>1</th>\n      <td>39.056951</td>\n      <td>10.060991</td>\n      <td>25.015378</td>\n      <td>28.995960</td>\n      <td>114.405425</td>\n      <td>4.564259</td>\n      <td>Hernia</td>\n    </tr>\n    <tr>\n      <th>2</th>\n      <td>68.832021</td>\n      <td>22.218482</td>\n      <td>50.092194</td>\n      <td>46.613539</td>\n      <td>105.985135</td>\n      <td>-3.530317</td>\n      <td>Hernia</td>\n    </tr>\n    <tr>\n      <th>3</th>\n      <td>69.297008</td>\n      <td>24.652878</td>\n      <td>44.311238</td>\n      <td>44.644130</td>\n      <td>101.868495</td>\n      <td>11.211523</td>\n      <td>Hernia</td>\n    </tr>\n    <tr>\n      <th>4</th>\n      <td>49.712859</td>\n      <td>9.652075</td>\n      <td>28.317406</td>\n      <td>40.060784</td>\n      <td>108.168725</td>\n      <td>7.918501</td>\n      <td>Hernia</td>\n    </tr>\n  </tbody>\n</table>\n</div>"
     },
     "execution_count": 5,
     "metadata": {},
     "output_type": "execute_result"
    }
   ],
   "source": [
    "df = pd.read_csv(PREP_DATASET)\n",
    "df.head()"
   ],
   "metadata": {
    "collapsed": false,
    "pycharm": {
     "name": "#%%\n"
    }
   }
  },
  {
   "cell_type": "code",
   "execution_count": 8,
   "outputs": [
    {
     "data": {
      "text/plain": "Spondylolisthesis    150\nNormal               100\nHernia                60\nName: class, dtype: int64"
     },
     "execution_count": 8,
     "metadata": {},
     "output_type": "execute_result"
    }
   ],
   "source": [
    "df['class'].value_counts()"
   ],
   "metadata": {
    "collapsed": false,
    "pycharm": {
     "name": "#%%\n"
    }
   }
  },
  {
   "cell_type": "code",
   "execution_count": 9,
   "outputs": [
    {
     "data": {
      "text/plain": "       pelvic_incidence  pelvic_tilt  lumbar_lordosis_angle  sacral_slope  \\\ncount        100.000000   100.000000             100.000000    100.000000   \nmean          51.685244    12.821414              43.542605     38.863830   \nstd           12.368161     6.778503              12.361388      9.624004   \nmin           30.741938    -5.845994              19.071075     17.386972   \n25%           42.817849     8.799951              35.000000     32.340487   \n50%           50.123115    13.482435              42.638923     37.059694   \n75%           61.470097    16.785953              51.602346     44.608788   \nmax           89.834676    29.894119              90.563461     67.195460   \n\n       pelvic_radius  degree_spondylolisthesis  \ncount     100.000000                100.000000  \nmean      123.890834                  2.186572  \nstd         9.014246                  6.307483  \nmin       100.501192                -11.058179  \n25%       118.182659                 -1.511360  \n50%       123.874328                  1.152710  \n75%       129.040401                  4.968807  \nmax       147.894637                 31.172767  ",
      "text/html": "<div>\n<style scoped>\n    .dataframe tbody tr th:only-of-type {\n        vertical-align: middle;\n    }\n\n    .dataframe tbody tr th {\n        vertical-align: top;\n    }\n\n    .dataframe thead th {\n        text-align: right;\n    }\n</style>\n<table border=\"1\" class=\"dataframe\">\n  <thead>\n    <tr style=\"text-align: right;\">\n      <th></th>\n      <th>pelvic_incidence</th>\n      <th>pelvic_tilt</th>\n      <th>lumbar_lordosis_angle</th>\n      <th>sacral_slope</th>\n      <th>pelvic_radius</th>\n      <th>degree_spondylolisthesis</th>\n    </tr>\n  </thead>\n  <tbody>\n    <tr>\n      <th>count</th>\n      <td>100.000000</td>\n      <td>100.000000</td>\n      <td>100.000000</td>\n      <td>100.000000</td>\n      <td>100.000000</td>\n      <td>100.000000</td>\n    </tr>\n    <tr>\n      <th>mean</th>\n      <td>51.685244</td>\n      <td>12.821414</td>\n      <td>43.542605</td>\n      <td>38.863830</td>\n      <td>123.890834</td>\n      <td>2.186572</td>\n    </tr>\n    <tr>\n      <th>std</th>\n      <td>12.368161</td>\n      <td>6.778503</td>\n      <td>12.361388</td>\n      <td>9.624004</td>\n      <td>9.014246</td>\n      <td>6.307483</td>\n    </tr>\n    <tr>\n      <th>min</th>\n      <td>30.741938</td>\n      <td>-5.845994</td>\n      <td>19.071075</td>\n      <td>17.386972</td>\n      <td>100.501192</td>\n      <td>-11.058179</td>\n    </tr>\n    <tr>\n      <th>25%</th>\n      <td>42.817849</td>\n      <td>8.799951</td>\n      <td>35.000000</td>\n      <td>32.340487</td>\n      <td>118.182659</td>\n      <td>-1.511360</td>\n    </tr>\n    <tr>\n      <th>50%</th>\n      <td>50.123115</td>\n      <td>13.482435</td>\n      <td>42.638923</td>\n      <td>37.059694</td>\n      <td>123.874328</td>\n      <td>1.152710</td>\n    </tr>\n    <tr>\n      <th>75%</th>\n      <td>61.470097</td>\n      <td>16.785953</td>\n      <td>51.602346</td>\n      <td>44.608788</td>\n      <td>129.040401</td>\n      <td>4.968807</td>\n    </tr>\n    <tr>\n      <th>max</th>\n      <td>89.834676</td>\n      <td>29.894119</td>\n      <td>90.563461</td>\n      <td>67.195460</td>\n      <td>147.894637</td>\n      <td>31.172767</td>\n    </tr>\n  </tbody>\n</table>\n</div>"
     },
     "execution_count": 9,
     "metadata": {},
     "output_type": "execute_result"
    }
   ],
   "source": [
    "df1 = df[df['class'] == 'Normal']\n",
    "df1.describe()"
   ],
   "metadata": {
    "collapsed": false,
    "pycharm": {
     "name": "#%%\n"
    }
   }
  },
  {
   "cell_type": "code",
   "execution_count": null,
   "outputs": [],
   "source": [],
   "metadata": {
    "collapsed": false,
    "pycharm": {
     "name": "#%%\n"
    }
   }
  }
 ],
 "metadata": {
  "kernelspec": {
   "display_name": "Python 3",
   "language": "python",
   "name": "python3"
  },
  "language_info": {
   "codemirror_mode": {
    "name": "ipython",
    "version": 2
   },
   "file_extension": ".py",
   "mimetype": "text/x-python",
   "name": "python",
   "nbconvert_exporter": "python",
   "pygments_lexer": "ipython2",
   "version": "2.7.6"
  }
 },
 "nbformat": 4,
 "nbformat_minor": 0
}