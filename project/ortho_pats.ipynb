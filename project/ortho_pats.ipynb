{
 "cells": [
  {
   "cell_type": "markdown",
   "source": [
    "## Курсовой проект\n",
    "## Условия\n",
    "Выбрать тему для курсового проекта. Курсовой по желанию. Данные с kaggle.com\n",
    "Варианты тем:\n",
    "\n",
    "1. EDA (рассчитать описательные статистики + графический анализ с выводами)\n",
    "2. Тестирование гипотезы (условия применимости того или иного критерия проверить , можно с графиками+ провести тестирование, оформить вывод)\n",
    "3. Линейная регрессия (условия применимости метода проверить ,можно с графиками, построить модель, исследовать на статистическую значимость модель ,можно и коэффициенты (самостоятельное изучение), коэффициент детерминации)\n",
    "4. Однофакторный или двухфакторный дисперсионный анализ (обязательно условия применимости исследовать, провести анализ, оформить вывод)"
   ],
   "metadata": {
    "collapsed": false
   }
  },
  {
   "cell_type": "markdown",
   "source": [
    "*Требования к оформлению : название темы, сопроводительный текст к действиям, что и почему делаете, какой вывод.\n",
    "Срок сдачи -до 07.09.21*"
   ],
   "metadata": {
    "collapsed": false
   }
  },
  {
   "cell_type": "markdown",
   "source": [
    "## Набор данных\n",
    "Biomechanical features of orthopedic patients\n",
    "Classifying patients based on six features\n",
    "https://www.kaggle.com/uciml/biomechanical-features-of-orthopedic-patients?select=column_3C_weka.csv\n",
    "\n",
    "Первая задача состоит в том, чтобы отнести пациентов к одной из трех категорий: нормальные (100 пациентов), грыжа диска (60 пациентов) или спондилолистез (150 пациентов).\n",
    "Описание полей:\n",
    "\n",
    "Каждый пациент представлен в наборе данных шестью биомеханическими атрибутами, определяемыми формой и ориентацией таза и поясничного отдела позвоночника (каждый из них представляет собой столбец):\n",
    "\n",
    "- угол таза (pelvic incidence)\n",
    "- наклон таза (pelvic tilt)\n",
    "- угол поясничного лордоза (lumbar lordosis angle)\n",
    "- крестцовый склон (sacral slope)\n",
    "- радиус таза (pelvic radius)\n",
    "- степень спондилолистеза (grade of spondylolisthesis)"
   ],
   "metadata": {
    "collapsed": false
   }
  },
  {
   "cell_type": "markdown",
   "source": [
    "## Анализ предметной области\n",
    "Pelvic Incidence: A Predictive Factor for Three-Dimensional Acetabular Orientation—A Preliminary Study\n",
    "https://www.hindawi.com/journals/ari/2014/594650/\n",
    "\n",
    "<img src=\"594650.jpg\">\n",
    "\n",
    "**pelvic incidence**\n",
    "Угол таза определяется как угол между линией, перпендикулярной крестцовой пластине в ее средней точке, и линией, соединяющей эту точку с осью головки бедренной кости. Большой таз соответствует тазу с горизонтальным крестцом и небольшой шириной подвздошной кости; малый таз указывает на таз с вертикальным крестцом и большой шириной подвздошной кости (рис. 2).\n",
    "\n",
    "**pelvic tilt**\n",
    "Наклон таза определяется (1) линией, проходящей через среднюю точку крестцовой пластинки и средней точкой осей головки бедренной кости, и (2) вертикальной линией, проходящей через среднюю точку оси головки бедренной кости. Наклон таза положительный, когда крестцовая пластина находится за бедром, и отрицательный, когда она находится перед ним (рис. 2).\n",
    "\n",
    "**sacral slope**\n",
    "Крестцовый наклон определяется как угол между крестцовой пластиной и горизонтальной линией. Вертикальный крестец описывается низким значением наклона крестца, а горизонтальный крестец - высоким значением наклона крестца (рис. 2)."
   ],
   "metadata": {
    "collapsed": false,
    "pycharm": {
     "name": "#%% md\n"
    }
   }
  },
  {
   "cell_type": "markdown",
   "source": [
    "#### Болезни\n",
    "**Спондилолистез** – это смещение (соскальзывание) тела вышележащего позвонка относительно тела нижележащего позвонка. Чаще всего возникает соскальзывание тела пятого поясничного позвонка над телом первого крестцового. Причиной спондилолистеза может быть спондилолиз, травма позвоночника, нарушение осанки с горизонтальным положением крестца. Иногда причиной спондилолистеза становятся дегенеративные процессы в межпозвонковых суставах или межпозвонковом диске.\n",
    "http://www.orthosmolensk.ru/zabolevaniya/detskie-zabolevaniya/spondilolistez\n",
    "\n",
    "**Межпозвонковая гры́жа** (грыжа межпозвоночного диска) — это выпячивание (экструзия) ядра межпозвоночного диска в позвоночный канал в результате нарушения целостности фиброзного кольца.\n",
    "https://ru.wikipedia.org/wiki/%D0%9C%D0%B5%D0%B6%D0%BF%D0%BE%D0%B7%D0%B2%D0%BE%D0%BD%D0%BE%D1%87%D0%BD%D0%B0%D1%8F_%D0%B3%D1%80%D1%8B%D0%B6%D0%B0"
   ],
   "metadata": {
    "collapsed": false
   }
  },
  {
   "cell_type": "markdown",
   "source": [
    "> **Гипотеза** Предполагается, что получение параметров, которые описывают положение таза пациента в 3D пространстве может предсказать развитие той или иной болезни (Спондилолистез, Межпозвонковая грыжа).\n",
    ">"
   ],
   "metadata": {
    "collapsed": false
   }
  },
  {
   "cell_type": "code",
   "execution_count": 10,
   "outputs": [],
   "source": [
    "import numpy as np\n",
    "import pandas as pd\n",
    "import pandas as pnd\n",
    "import matplotlib.pyplot as plt"
   ],
   "metadata": {
    "collapsed": false,
    "pycharm": {
     "name": "#%%\n"
    }
   }
  },
  {
   "cell_type": "code",
   "execution_count": 11,
   "outputs": [],
   "source": [
    "PREP_DATASET = 'column_3C_weka.csv'\n"
   ],
   "metadata": {
    "collapsed": false,
    "pycharm": {
     "name": "#%%\n"
    }
   }
  },
  {
   "cell_type": "code",
   "execution_count": 45,
   "outputs": [],
   "source": [
    "# первый взгляд на параметр\n",
    "def first_look(Series1, max_count=0, bins=10, quan=0.999):\n",
    "    Series = Series1.copy()\n",
    "    # простая корректировка по выбросам\n",
    "    # Series.drop(Series[Series > Series.quantile(quan)].index, inplace=True)\n",
    "    # расчет осовных значений\n",
    "    Series_mean = round(Series.mean(), 2)\n",
    "    Series_median = Series.median()\n",
    "    Series_name = Series.name\n",
    "    # рачет максимального выброса\n",
    "    max_count=np.histogram(Series, bins=bins)[0].max()\n",
    "\n",
    "    plt.figure(figsize = (16, 8))\n",
    "    Series.hist(bins=bins)\n",
    "    plt.ylabel('Count')\n",
    "    plt.xlabel(Series_name)\n",
    "    # отображение среднего и медианы\n",
    "    y = np.linspace(0, max_count, bins)\n",
    "    plt.plot([Series_mean] * bins, y, label='mean  : {:,.2f}'.format(Series_mean),  linewidth=4)\n",
    "    plt.plot([Series_median] * bins, y, label='median: {:,.2f}'.format(Series_median),  linewidth=4)\n",
    "    plt.legend()\n",
    "    plt.title( Series_name + ' distribution')\n",
    "    plt.show()\n",
    "    sqd = round(np.std(Series1), 2)\n",
    "    # print(f'Среднее квадратичное отклоненение {sqd}')"
   ],
   "metadata": {
    "collapsed": false,
    "pycharm": {
     "name": "#%%\n"
    }
   }
  },
  {
   "cell_type": "code",
   "execution_count": 41,
   "outputs": [
    {
     "data": {
      "text/plain": "   pelvic_incidence  pelvic_tilt  lumbar_lordosis_angle  sacral_slope  \\\n0         63.027817    22.552586              39.609117     40.475232   \n1         39.056951    10.060991              25.015378     28.995960   \n2         68.832021    22.218482              50.092194     46.613539   \n3         69.297008    24.652878              44.311238     44.644130   \n4         49.712859     9.652075              28.317406     40.060784   \n\n   pelvic_radius  degree_spondylolisthesis   class  \n0      98.672917                 -0.254400  Hernia  \n1     114.405425                  4.564259  Hernia  \n2     105.985135                 -3.530317  Hernia  \n3     101.868495                 11.211523  Hernia  \n4     108.168725                  7.918501  Hernia  ",
      "text/html": "<div>\n<style scoped>\n    .dataframe tbody tr th:only-of-type {\n        vertical-align: middle;\n    }\n\n    .dataframe tbody tr th {\n        vertical-align: top;\n    }\n\n    .dataframe thead th {\n        text-align: right;\n    }\n</style>\n<table border=\"1\" class=\"dataframe\">\n  <thead>\n    <tr style=\"text-align: right;\">\n      <th></th>\n      <th>pelvic_incidence</th>\n      <th>pelvic_tilt</th>\n      <th>lumbar_lordosis_angle</th>\n      <th>sacral_slope</th>\n      <th>pelvic_radius</th>\n      <th>degree_spondylolisthesis</th>\n      <th>class</th>\n    </tr>\n  </thead>\n  <tbody>\n    <tr>\n      <th>0</th>\n      <td>63.027817</td>\n      <td>22.552586</td>\n      <td>39.609117</td>\n      <td>40.475232</td>\n      <td>98.672917</td>\n      <td>-0.254400</td>\n      <td>Hernia</td>\n    </tr>\n    <tr>\n      <th>1</th>\n      <td>39.056951</td>\n      <td>10.060991</td>\n      <td>25.015378</td>\n      <td>28.995960</td>\n      <td>114.405425</td>\n      <td>4.564259</td>\n      <td>Hernia</td>\n    </tr>\n    <tr>\n      <th>2</th>\n      <td>68.832021</td>\n      <td>22.218482</td>\n      <td>50.092194</td>\n      <td>46.613539</td>\n      <td>105.985135</td>\n      <td>-3.530317</td>\n      <td>Hernia</td>\n    </tr>\n    <tr>\n      <th>3</th>\n      <td>69.297008</td>\n      <td>24.652878</td>\n      <td>44.311238</td>\n      <td>44.644130</td>\n      <td>101.868495</td>\n      <td>11.211523</td>\n      <td>Hernia</td>\n    </tr>\n    <tr>\n      <th>4</th>\n      <td>49.712859</td>\n      <td>9.652075</td>\n      <td>28.317406</td>\n      <td>40.060784</td>\n      <td>108.168725</td>\n      <td>7.918501</td>\n      <td>Hernia</td>\n    </tr>\n  </tbody>\n</table>\n</div>"
     },
     "execution_count": 41,
     "metadata": {},
     "output_type": "execute_result"
    }
   ],
   "source": [
    "df = pd.read_csv(PREP_DATASET)\n",
    "df.head()"
   ],
   "metadata": {
    "collapsed": false,
    "pycharm": {
     "name": "#%%\n"
    }
   }
  },
  {
   "cell_type": "code",
   "execution_count": 42,
   "outputs": [
    {
     "data": {
      "text/plain": "Spondylolisthesis    150\nNormal               100\nHernia                60\nName: class, dtype: int64"
     },
     "execution_count": 42,
     "metadata": {},
     "output_type": "execute_result"
    }
   ],
   "source": [
    "df['class'].value_counts()"
   ],
   "metadata": {
    "collapsed": false,
    "pycharm": {
     "name": "#%%\n"
    }
   }
  },
  {
   "cell_type": "markdown",
   "source": [
    "> **Гипотеза** Классы не сбалансированны, требуется балансировка для правильной работы алгоритмов классификации."
   ],
   "metadata": {
    "collapsed": false,
    "pycharm": {
     "name": "#%% md\n"
    }
   }
  },
  {
   "cell_type": "code",
   "execution_count": 43,
   "outputs": [
    {
     "data": {
      "text/plain": "       pelvic_incidence  pelvic_tilt  lumbar_lordosis_angle  sacral_slope  \\\ncount        100.000000   100.000000             100.000000    100.000000   \nmean          51.685244    12.821414              43.542605     38.863830   \nstd           12.368161     6.778503              12.361388      9.624004   \nmin           30.741938    -5.845994              19.071075     17.386972   \n25%           42.817849     8.799951              35.000000     32.340487   \n50%           50.123115    13.482435              42.638923     37.059694   \n75%           61.470097    16.785953              51.602346     44.608788   \nmax           89.834676    29.894119              90.563461     67.195460   \n\n       pelvic_radius  degree_spondylolisthesis  \ncount     100.000000                100.000000  \nmean      123.890834                  2.186572  \nstd         9.014246                  6.307483  \nmin       100.501192                -11.058179  \n25%       118.182659                 -1.511360  \n50%       123.874328                  1.152710  \n75%       129.040401                  4.968807  \nmax       147.894637                 31.172767  ",
      "text/html": "<div>\n<style scoped>\n    .dataframe tbody tr th:only-of-type {\n        vertical-align: middle;\n    }\n\n    .dataframe tbody tr th {\n        vertical-align: top;\n    }\n\n    .dataframe thead th {\n        text-align: right;\n    }\n</style>\n<table border=\"1\" class=\"dataframe\">\n  <thead>\n    <tr style=\"text-align: right;\">\n      <th></th>\n      <th>pelvic_incidence</th>\n      <th>pelvic_tilt</th>\n      <th>lumbar_lordosis_angle</th>\n      <th>sacral_slope</th>\n      <th>pelvic_radius</th>\n      <th>degree_spondylolisthesis</th>\n    </tr>\n  </thead>\n  <tbody>\n    <tr>\n      <th>count</th>\n      <td>100.000000</td>\n      <td>100.000000</td>\n      <td>100.000000</td>\n      <td>100.000000</td>\n      <td>100.000000</td>\n      <td>100.000000</td>\n    </tr>\n    <tr>\n      <th>mean</th>\n      <td>51.685244</td>\n      <td>12.821414</td>\n      <td>43.542605</td>\n      <td>38.863830</td>\n      <td>123.890834</td>\n      <td>2.186572</td>\n    </tr>\n    <tr>\n      <th>std</th>\n      <td>12.368161</td>\n      <td>6.778503</td>\n      <td>12.361388</td>\n      <td>9.624004</td>\n      <td>9.014246</td>\n      <td>6.307483</td>\n    </tr>\n    <tr>\n      <th>min</th>\n      <td>30.741938</td>\n      <td>-5.845994</td>\n      <td>19.071075</td>\n      <td>17.386972</td>\n      <td>100.501192</td>\n      <td>-11.058179</td>\n    </tr>\n    <tr>\n      <th>25%</th>\n      <td>42.817849</td>\n      <td>8.799951</td>\n      <td>35.000000</td>\n      <td>32.340487</td>\n      <td>118.182659</td>\n      <td>-1.511360</td>\n    </tr>\n    <tr>\n      <th>50%</th>\n      <td>50.123115</td>\n      <td>13.482435</td>\n      <td>42.638923</td>\n      <td>37.059694</td>\n      <td>123.874328</td>\n      <td>1.152710</td>\n    </tr>\n    <tr>\n      <th>75%</th>\n      <td>61.470097</td>\n      <td>16.785953</td>\n      <td>51.602346</td>\n      <td>44.608788</td>\n      <td>129.040401</td>\n      <td>4.968807</td>\n    </tr>\n    <tr>\n      <th>max</th>\n      <td>89.834676</td>\n      <td>29.894119</td>\n      <td>90.563461</td>\n      <td>67.195460</td>\n      <td>147.894637</td>\n      <td>31.172767</td>\n    </tr>\n  </tbody>\n</table>\n</div>"
     },
     "execution_count": 43,
     "metadata": {},
     "output_type": "execute_result"
    }
   ],
   "source": [
    "df_norm = df[df['class'] == 'Normal']\n",
    "df_norm.describe()"
   ],
   "metadata": {
    "collapsed": false,
    "pycharm": {
     "name": "#%%\n"
    }
   }
  },
  {
   "cell_type": "markdown",
   "source": [
    "## Первичный анализ параметров"
   ],
   "metadata": {
    "collapsed": false
   }
  },
  {
   "cell_type": "markdown",
   "source": [
    "### наклон таза (pelvic tilt)"
   ],
   "metadata": {
    "collapsed": false
   }
  },
  {
   "cell_type": "code",
   "execution_count": 51,
   "outputs": [
    {
     "data": {
      "text/plain": "<Figure size 1152x576 with 1 Axes>",
      "image/png": "[encoded data removed]"
     },
     "metadata": {
      "needs_background": "light"
     },
     "output_type": "display_data"
    },
    {
     "data": {
      "text/plain": "<AxesSubplot:>"
     },
     "execution_count": 51,
     "metadata": {},
     "output_type": "execute_result"
    },
    {
     "data": {
      "text/plain": "<Figure size 432x288 with 1 Axes>",
      "image/png": "[encoded data removed]"
     },
     "metadata": {
      "needs_background": "light"
     },
     "output_type": "display_data"
    }
   ],
   "source": [
    "first_look(df_norm['pelvic_tilt'], bins=15)\n",
    "df_norm.boxplot(column='pelvic_tilt')"
   ],
   "metadata": {
    "collapsed": false,
    "pycharm": {
     "name": "#%%\n"
    }
   }
  },
  {
   "cell_type": "code",
   "source": [
    "df_norm['pelvic_tilt'].describe()"
   ],
   "metadata": {
    "collapsed": false,
    "pycharm": {
     "name": "#%%\n"
    }
   },
   "execution_count": 50,
   "outputs": [
    {
     "data": {
      "text/plain": "count    100.000000\nmean      12.821414\nstd        6.778503\nmin       -5.845994\n25%        8.799951\n50%       13.482435\n75%       16.785953\nmax       29.894119\nName: pelvic_tilt, dtype: float64"
     },
     "execution_count": 50,
     "metadata": {},
     "output_type": "execute_result"
    }
   ]
  },
  {
   "cell_type": "markdown",
   "source": [
    "> **Гипотеза** Распределение для здоровых предполагает среднее значение около 13. Мода и среднеее значение совпадают.\n",
    ">"
   ],
   "metadata": {
    "collapsed": false
   }
  },
  {
   "cell_type": "markdown",
   "source": [
    "### угол таза (pelvic incidence)"
   ],
   "metadata": {
    "collapsed": false
   }
  },
  {
   "cell_type": "code",
   "execution_count": 34,
   "outputs": [
    {
     "data": {
      "text/plain": "<Figure size 1152x576 with 1 Axes>",
      "image/png": "[encoded data removed]"
     },
     "metadata": {
      "needs_background": "light"
     },
     "output_type": "display_data"
    }
   ],
   "source": [
    "first_look(df_norm['pelvic_incidence'], bins=15)"
   ],
   "metadata": {
    "collapsed": false,
    "pycharm": {
     "name": "#%%\n"
    }
   }
  },
  {
   "cell_type": "markdown",
   "source": [
    "> **Гипотеза** параметр имеет довольно равномерное распределение. Среднее значение около 50. Мода и среднеее значение совпадают."
   ],
   "metadata": {
    "collapsed": false
   }
  },
  {
   "cell_type": "markdown",
   "source": [
    "### угол поясничного лордоза (lumbar lordosis angle)"
   ],
   "metadata": {
    "collapsed": false
   }
  },
  {
   "cell_type": "code",
   "execution_count": null,
   "outputs": [],
   "source": [
    "first_look(df_norm['lumbar_lordosis_angle'], bins=20)"
   ],
   "metadata": {
    "collapsed": false,
    "pycharm": {
     "name": "#%%\n"
    }
   }
  },
  {
   "cell_type": "markdown",
   "source": [
    "> **Гипотеза** параметр имеет довольно равномерное распределение. Среднее значение около 43. Мода и среднеее значение совпадают."
   ],
   "metadata": {
    "collapsed": false
   }
  },
  {
   "cell_type": "markdown",
   "source": [
    "### крестцовый склон (sacral slope)"
   ],
   "metadata": {
    "collapsed": false
   }
  },
  {
   "cell_type": "code",
   "execution_count": 31,
   "outputs": [
    {
     "data": {
      "text/plain": "<Figure size 1152x576 with 1 Axes>",
      "image/png": "[encoded data removed]"
     },
     "metadata": {
      "needs_background": "light"
     },
     "output_type": "display_data"
    }
   ],
   "source": [
    "first_look(df_norm['sacral_slope'], bins=15)"
   ],
   "metadata": {
    "collapsed": false,
    "pycharm": {
     "name": "#%%\n"
    }
   }
  },
  {
   "cell_type": "markdown",
   "source": [
    "> **Гипотеза** Среднее значение около 38. Мода и среднеее значение совпадают."
   ],
   "metadata": {
    "collapsed": false
   }
  },
  {
   "cell_type": "markdown",
   "source": [
    "### радиус таза (pelvic radius)"
   ],
   "metadata": {
    "collapsed": false
   }
  },
  {
   "cell_type": "code",
   "execution_count": null,
   "outputs": [],
   "source": [
    "first_look(df_norm['pelvic_radius'], bins=15)"
   ],
   "metadata": {
    "collapsed": false,
    "pycharm": {
     "name": "#%%\n"
    }
   }
  },
  {
   "cell_type": "markdown",
   "source": [
    "> **Гипотеза** Среднее значение около 123. Мода и среднеее значение совпадают."
   ],
   "metadata": {
    "collapsed": false
   }
  },
  {
   "cell_type": "markdown",
   "source": [
    "### степень спондилолистеза (grade of spondylolisthesis)"
   ],
   "metadata": {
    "collapsed": false
   }
  },
  {
   "cell_type": "code",
   "execution_count": 32,
   "outputs": [
    {
     "data": {
      "text/plain": "<Figure size 1152x576 with 1 Axes>",
      "image/png": "[encoded data removed]"
     },
     "metadata": {
      "needs_background": "light"
     },
     "output_type": "display_data"
    }
   ],
   "source": [
    "first_look(df_norm['degree_spondylolisthesis'], bins=15)"
   ],
   "metadata": {
    "collapsed": false,
    "pycharm": {
     "name": "#%%\n"
    }
   }
  },
  {
   "cell_type": "markdown",
   "source": [
    "> **Гипотеза** Среднее значение около 2.2. Мода и среднеее значение практически совпадают."
   ],
   "metadata": {
    "collapsed": false
   }
  }
 ],
 "metadata": {
  "kernelspec": {
   "display_name": "Python 3",
   "language": "python",
   "name": "python3"
  },
  "language_info": {
   "codemirror_mode": {
    "name": "ipython",
    "version": 2
   },
   "file_extension": ".py",
   "mimetype": "text/x-python",
   "name": "python",
   "nbconvert_exporter": "python",
   "pygments_lexer": "ipython2",
   "version": "2.7.6"
  }
 },
 "nbformat": 4,
 "nbformat_minor": 0
}