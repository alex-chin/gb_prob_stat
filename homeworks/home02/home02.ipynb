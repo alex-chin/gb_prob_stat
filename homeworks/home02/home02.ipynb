{
 "cells": [
  {
   "cell_type": "markdown",
   "metadata": {
    "collapsed": true,
    "pycharm": {
     "name": "#%% md\n"
    }
   },
   "source": [
    "## Практическое задание N2\n",
    "\n",
    "### Урок 2. Дискретные случайные величины. Закон распределения вероятностей. Биномиальный закон распределения. Распределение Пуассона"
   ]
  },
  {
   "cell_type": "code",
   "execution_count": 55,
   "outputs": [],
   "source": [
    "from math import factorial"
   ],
   "metadata": {
    "collapsed": false,
    "pycharm": {
     "name": "#%%\n"
    }
   }
  },
  {
   "cell_type": "code",
   "execution_count": 56,
   "outputs": [],
   "source": [
    "import numpy as np\n",
    "\n",
    "\n",
    "def combinations(n, k):\n",
    "    return int(factorial(n) / (factorial(k) * factorial(n - k)))\n",
    "\n",
    "\n",
    "def bi_rasp(n, k, p):\n",
    "    return combinations(n, k) * (p ** k) * ((1 - p) ** (n - k))\n",
    "\n",
    "\n",
    "def puasson(m, l):\n",
    "    return (l ** m) / factorial(m) * np.e ** (-l)\n",
    "\n"
   ],
   "metadata": {
    "collapsed": false,
    "pycharm": {
     "name": "#%%\n"
    }
   }
  },
  {
   "cell_type": "markdown",
   "source": [
    "1. Вероятность того, что стрелок попадет в мишень, выстрелив один раз, равна 0.8. Стрелок выстрелил 100 раз. Найдите вероятность того, что стрелок попадет в цель ровно 85 раз.\n"
   ],
   "metadata": {
    "collapsed": false
   }
  },
  {
   "cell_type": "code",
   "source": [
    "C85_100 = combinations(100, 85)\n",
    "C85_100"
   ],
   "metadata": {
    "collapsed": false,
    "pycharm": {
     "name": "#%%\n"
    }
   },
   "execution_count": 57,
   "outputs": [
    {
     "data": {
      "text/plain": "253338471349988640"
     },
     "execution_count": 57,
     "metadata": {},
     "output_type": "execute_result"
    }
   ]
  },
  {
   "cell_type": "code",
   "execution_count": 58,
   "outputs": [
    {
     "data": {
      "text/plain": "0.048061793700746556"
     },
     "execution_count": 58,
     "metadata": {},
     "output_type": "execute_result"
    }
   ],
   "source": [
    "Bp = C85_100 * (0.8) ** 85 * (0.2) ** 15\n",
    "Bp"
   ],
   "metadata": {
    "collapsed": false,
    "pycharm": {
     "name": "#%%\n"
    }
   }
  },
  {
   "cell_type": "code",
   "execution_count": 59,
   "outputs": [
    {
     "data": {
      "text/plain": "0.048061793700746355"
     },
     "execution_count": 59,
     "metadata": {},
     "output_type": "execute_result"
    }
   ],
   "source": [
    "Bp = bi_rasp(100, 85, 0.8)\n",
    "Bp"
   ],
   "metadata": {
    "collapsed": false,
    "pycharm": {
     "name": "#%%\n"
    }
   }
  },
  {
   "cell_type": "markdown",
   "source": [
    "> Вероятность попадания равна 0.048"
   ],
   "metadata": {
    "collapsed": false
   }
  },
  {
   "cell_type": "markdown",
   "source": [
    "2. Вероятность того, что лампочка перегорит в течение первого дня эксплуатации,\n",
    "равна 0.0004. В жилом комплексе после ремонта в один день\n",
    "включили 5000 новых лампочек.\n",
    "Какова вероятность, что ни одна из них не перегорит в первый день?\n",
    "Какова вероятность, что перегорят ровно две?\n",
    "\n",
    "> a) Так как вероятность наступления события маленькая (0.0004),\n",
    "> а событий много (5000) можно применить распределение Пуассона.\n",
    ">"
   ],
   "metadata": {
    "collapsed": false,
    "pycharm": {
     "name": "#%% md\n"
    }
   }
  },
  {
   "cell_type": "markdown",
   "source": [
    "$$P_m \\approx \\frac{\\lambda^m}{m!}e^{-\\lambda}$$,\n",
    "где $\\lambda = np$."
   ],
   "metadata": {
    "collapsed": false
   }
  },
  {
   "cell_type": "code",
   "execution_count": 60,
   "outputs": [
    {
     "data": {
      "text/plain": "0.1353352832366127"
     },
     "execution_count": 60,
     "metadata": {},
     "output_type": "execute_result"
    }
   ],
   "source": [
    "m = 0\n",
    "p = 0.0004\n",
    "lamda = 5000 * p\n",
    "Pm0 = puasson(m, lamda)\n",
    "Pm0"
   ],
   "metadata": {
    "collapsed": false,
    "pycharm": {
     "name": "#%%\n"
    }
   }
  },
  {
   "cell_type": "markdown",
   "source": [
    "> Вероятность того что лампочка не перегорит - 0.135 (13,5%)"
   ],
   "metadata": {
    "collapsed": false
   }
  },
  {
   "cell_type": "markdown",
   "source": [
    "> б) Какова вероятность, что перегорят ровно две?"
   ],
   "metadata": {
    "collapsed": false
   }
  },
  {
   "cell_type": "code",
   "source": [
    "m = 2\n",
    "p = 0.0004\n",
    "lamda = 5000 * p\n",
    "Pm2 = puasson(m, lamda)\n",
    "Pm2"
   ],
   "metadata": {
    "collapsed": false,
    "pycharm": {
     "name": "#%%\n"
    }
   },
   "execution_count": 61,
   "outputs": [
    {
     "data": {
      "text/plain": "0.2706705664732254"
     },
     "execution_count": 61,
     "metadata": {},
     "output_type": "execute_result"
    }
   ]
  },
  {
   "cell_type": "markdown",
   "source": [
    "> вероятность что сгорят 2 лампы - 0.27 (27%)"
   ],
   "metadata": {
    "collapsed": false
   }
  },
  {
   "cell_type": "markdown",
   "source": [
    "3. Монету подбросили 144 раза. Какова вероятность, что орел выпадет ровно 70 раз?"
   ],
   "metadata": {
    "collapsed": false
   }
  },
  {
   "cell_type": "markdown",
   "source": [
    "$$p(X=k) = C_n^kp^kq^{n-k} $$\n",
    "\n",
    "n=144, k=70, p=0.5, q=0.5"
   ],
   "metadata": {
    "collapsed": false
   }
  },
  {
   "cell_type": "code",
   "execution_count": 62,
   "outputs": [
    {
     "data": {
      "text/plain": "0.06281178035144776"
     },
     "execution_count": 62,
     "metadata": {},
     "output_type": "execute_result"
    }
   ],
   "source": [
    "P144_70 = bi_rasp(144, 70, 0.5)\n",
    "P144_70"
   ],
   "metadata": {
    "collapsed": false,
    "pycharm": {
     "name": "#%%\n"
    }
   }
  },
  {
   "cell_type": "markdown",
   "source": [
    "> Вероятность выпадения орла - 0.0628 (6,28%)"
   ],
   "metadata": {
    "collapsed": false
   }
  },
  {
   "cell_type": "markdown",
   "source": [
    "4. В первом ящике находится 10 мячей, из которых 7 - белые.\n",
    "Во втором ящике - 11 мячей, из которых 9 белых.\n",
    "Из каждого ящика вытаскивают случайным образом по два мяча.\n",
    "Какова вероятность того, что все мячи белые?\n",
    "Какова вероятность того, что ровно два мяча белые?\n",
    "Какова вероятность того, что хотя бы один мяч белый?"
   ],
   "metadata": {
    "collapsed": false
   }
  },
  {
   "cell_type": "markdown",
   "source": [
    "> a) Какова вероятность того, что все мячи белые?\n",
    ">\n",
    "> **1 способ**\n",
    "\n",
    "- 1 корзина $$C_7^2$$ число благоприятствующих событий\n",
    "- 1 корзина $$C_{10}^{2}$$ общее число\n",
    "- 2 корзина $$C_9^2$$ число благоприятствующих событий\n",
    "- 2 корзина $$C_{11}^{2}$$ общее число\n"
   ],
   "metadata": {
    "collapsed": false
   }
  },
  {
   "cell_type": "code",
   "source": [
    "comb = combinations\n",
    "comb(7, 2) / comb(10, 2) * comb(9, 2) / comb(11, 2)"
   ],
   "metadata": {
    "collapsed": false,
    "pycharm": {
     "name": "#%%\n"
    }
   },
   "execution_count": 63,
   "outputs": [
    {
     "data": {
      "text/plain": "0.3054545454545455"
     },
     "execution_count": 63,
     "metadata": {},
     "output_type": "execute_result"
    }
   ]
  },
  {
   "cell_type": "markdown",
   "source": [
    "> **2 способ**"
   ],
   "metadata": {
    "collapsed": false,
    "pycharm": {
     "name": "#%% md\n"
    }
   },
   "outputs": [
    {
     "ename": "SyntaxError",
     "evalue": "invalid syntax (Temp/ipykernel_23736/2344486479.py, line 1)",
     "output_type": "error",
     "traceback": [
      "\u001B[1;36m  File \u001B[1;32m\"C:\\Users\\8523~1\\AppData\\Local\\Temp/ipykernel_23736/2344486479.py\"\u001B[1;36m, line \u001B[1;32m1\u001B[0m\n\u001B[1;33m    > **1 способ**\u001B[0m\n\u001B[1;37m    ^\u001B[0m\n\u001B[1;31mSyntaxError\u001B[0m\u001B[1;31m:\u001B[0m invalid syntax\n"
     ]
    }
   ],
   "execution_count": 37
  },
  {
   "cell_type": "code",
   "source": [
    "# первая корзина\n",
    "p1 = 7 / 10 * 6 / 9\n",
    "# вторая корзина\n",
    "p2 = 9 / 11 * 8 / 10\n",
    "\n",
    "p1 * p2"
   ],
   "metadata": {
    "collapsed": false,
    "pycharm": {
     "name": "#%%\n"
    }
   },
   "execution_count": 64,
   "outputs": [
    {
     "data": {
      "text/plain": "0.30545454545454537"
     },
     "execution_count": 64,
     "metadata": {},
     "output_type": "execute_result"
    }
   ]
  },
  {
   "cell_type": "markdown",
   "source": [
    "> вероятность что все белые = 0,305 (30,5%)\n"
   ],
   "metadata": {
    "collapsed": false
   }
  },
  {
   "cell_type": "markdown",
   "source": [
    "> в) В первом ящике находится 10 мячей, из которых 7 - белые.\n",
    "> Во втором ящике - 11 мячей, из которых 9 белых.\n",
    "> Из каждого ящика вытаскивают случайным образом по два мяча.\n",
    "> Какова вероятность того, что хотя бы один мяч белый?\n",
    "\n",
    "> **1 способ**\n",
    ">\n",
    "> вероятность будет равна 1 - P(все 4 - Черные)\n",
    "\n",
    "- 1 корзина $$C_3^2$$ число благоприятствующих событий\n",
    "- 1 корзина $$C_{10}^{2}$$ общее число\n",
    "- 2 корзина $$C_2^2$$ число благоприятствующих событий\n",
    "- 2 корзина $$C_{11}^{2}$$ общее число"
   ],
   "metadata": {
    "collapsed": false
   }
  },
  {
   "cell_type": "code",
   "execution_count": 65,
   "outputs": [
    {
     "data": {
      "text/plain": "0.9987878787878788"
     },
     "execution_count": 65,
     "metadata": {},
     "output_type": "execute_result"
    }
   ],
   "source": [
    "1 - comb(3, 2) / comb(10, 2) * comb(2, 2) / comb(11, 2)"
   ],
   "metadata": {
    "collapsed": false,
    "pycharm": {
     "name": "#%%\n"
    }
   }
  },
  {
   "cell_type": "markdown",
   "source": [
    "> **2 способ**\n",
    ">"
   ],
   "metadata": {
    "collapsed": false,
    "pycharm": {
     "name": "#%% md\n"
    }
   }
  },
  {
   "cell_type": "code",
   "execution_count": 66,
   "outputs": [
    {
     "data": {
      "text/plain": "0.9987878787878788"
     },
     "execution_count": 66,
     "metadata": {},
     "output_type": "execute_result"
    }
   ],
   "source": [
    "pb_1 = 3 / 10 * 2 / 9\n",
    "pb_2 = 2 / 11 * 1 / 10\n",
    "pb = pb_1 * pb_2\n",
    "1 - pb"
   ],
   "metadata": {
    "collapsed": false,
    "pycharm": {
     "name": "#%%\n"
    }
   }
  },
  {
   "cell_type": "markdown",
   "source": [
    "> вероятность что хотя бы 1 мяч будет белым = 0.9987 (99,87%)"
   ],
   "metadata": {
    "collapsed": false
   }
  },
  {
   "cell_type": "markdown",
   "source": [
    "б) В первом ящике находится 10 мячей, из которых 7 - белые.\n",
    "Во втором ящике - 11 мячей, из которых 9 белых.\n",
    "Из каждого ящика вытаскивают случайным образом по два мяча.\n",
    "Какова вероятность того, что ровно два мяча белые?\n",
    "\n",
    "> **1 способ**\n",
    ">\n",
    "1 корзина 2 белых, 2 корзина 2 черных\n",
    "\n",
    "1 корзина 2 черных, 2 корзина 2 белых\n",
    "\n",
    "1 корзина 1 белый, 2 корзина 1 белый"
   ],
   "metadata": {
    "collapsed": false
   }
  },
  {
   "cell_type": "code",
   "execution_count": 67,
   "outputs": [
    {
     "data": {
      "text/plain": "0.008484848484848486"
     },
     "execution_count": 67,
     "metadata": {},
     "output_type": "execute_result"
    }
   ],
   "source": [
    "p1 = comb(7, 2) / comb(10, 2) * comb(2, 2) / comb(11, 2)\n",
    "p1"
   ],
   "metadata": {
    "collapsed": false,
    "pycharm": {
     "name": "#%%\n"
    }
   }
  },
  {
   "cell_type": "code",
   "execution_count": 68,
   "outputs": [
    {
     "data": {
      "text/plain": "0.04363636363636363"
     },
     "execution_count": 68,
     "metadata": {},
     "output_type": "execute_result"
    }
   ],
   "source": [
    "p2 = comb(3, 2) / comb(10, 2) * comb(9, 2) / comb(11, 2)\n",
    "p2"
   ],
   "metadata": {
    "collapsed": false,
    "pycharm": {
     "name": "#%%\n"
    }
   }
  },
  {
   "cell_type": "code",
   "execution_count": 69,
   "outputs": [
    {
     "data": {
      "text/plain": "0.15272727272727274"
     },
     "execution_count": 69,
     "metadata": {},
     "output_type": "execute_result"
    }
   ],
   "source": [
    "p3 = comb(7, 1) * comb(3, 1) / comb(10, 2) * comb(9, 1) * comb(2, 1) / comb(11, 2)\n",
    "p3"
   ],
   "metadata": {
    "collapsed": false,
    "pycharm": {
     "name": "#%%\n"
    }
   }
  },
  {
   "cell_type": "code",
   "execution_count": 70,
   "outputs": [
    {
     "data": {
      "text/plain": "0.20484848484848486"
     },
     "execution_count": 70,
     "metadata": {},
     "output_type": "execute_result"
    }
   ],
   "source": [
    "p = p1 + p2 + p3\n",
    "p"
   ],
   "metadata": {
    "collapsed": false,
    "pycharm": {
     "name": "#%%\n"
    }
   }
  },
  {
   "cell_type": "markdown",
   "source": [
    "> **2 способ**"
   ],
   "metadata": {
    "collapsed": false,
    "pycharm": {
     "name": "#%% md\n"
    }
   }
  },
  {
   "cell_type": "code",
   "execution_count": 71,
   "outputs": [
    {
     "data": {
      "text/plain": "0.008484848484848482"
     },
     "execution_count": 71,
     "metadata": {},
     "output_type": "execute_result"
    }
   ],
   "source": [
    "# два меча из 1, 0 из 2\n",
    "\n",
    "a1_2 = 7 / 10 * 6 / 9\n",
    "a2_0 = 2 / 11 * 1 / 10\n",
    "pb1 = a1_2 * a2_0\n",
    "pb1"
   ],
   "metadata": {
    "collapsed": false,
    "pycharm": {
     "name": "#%%\n"
    }
   }
  },
  {
   "cell_type": "code",
   "execution_count": 72,
   "outputs": [
    {
     "data": {
      "text/plain": "0.04363636363636363"
     },
     "execution_count": 72,
     "metadata": {},
     "output_type": "execute_result"
    }
   ],
   "source": [
    "# 0 из 1, 2 из 2\n",
    "\n",
    "a1_0 = 3 / 10 * 2 / 9\n",
    "a2_2 = 9 / 11 * 8 / 10\n",
    "pb2 = a1_0 * a2_2\n",
    "pb2"
   ],
   "metadata": {
    "collapsed": false,
    "pycharm": {
     "name": "#%%\n"
    }
   }
  },
  {
   "cell_type": "code",
   "execution_count": 73,
   "outputs": [],
   "source": [
    "# 1 корзина: 1 белый, 2 черный или 1 черный, 2 белый\n",
    "pb1_1 = 7 / 10 * 3 / 9\n",
    "pb1_2 = 3 / 10 * 7 / 9\n",
    "pb_1 = pb1_1 + pb1_2\n",
    "pb_1\n",
    "\n",
    "# 2 корзина: 1 белый, 2 черный или 1 черный, 2 белый\n",
    "pb2_1 = 9/11 * 2/10\n",
    "pb2_2 = 2/11 *  9/10\n",
    "pb_2 = pb2_1 + pb2_2\n",
    "pb_2\n",
    "\n",
    "pb3= pb_1*pb_2"
   ],
   "metadata": {
    "collapsed": false,
    "pycharm": {
     "name": "#%%\n"
    }
   }
  },
  {
   "cell_type": "code",
   "execution_count": 74,
   "outputs": [
    {
     "data": {
      "text/plain": "0.20484848484848484"
     },
     "execution_count": 74,
     "metadata": {},
     "output_type": "execute_result"
    }
   ],
   "source": [
    "# общая сумма\n",
    "p_ex_white = pb1 + pb2 + pb3\n",
    "p_ex_white"
   ],
   "metadata": {
    "collapsed": false,
    "pycharm": {
     "name": "#%%\n"
    }
   }
  },
  {
   "cell_type": "markdown",
   "source": [
    "> вероятность, что ровно два мяча белые - 0.205 (20.5%)\n"
   ],
   "metadata": {
    "collapsed": false,
    "pycharm": {
     "name": "#%% md\n"
    }
   }
  }
 ],
 "metadata": {
  "kernelspec": {
   "display_name": "Python 3",
   "language": "python",
   "name": "python3"
  },
  "language_info": {
   "codemirror_mode": {
    "name": "ipython",
    "version": 2
   },
   "file_extension": ".py",
   "mimetype": "text/x-python",
   "name": "python",
   "nbconvert_exporter": "python",
   "pygments_lexer": "ipython2",
   "version": "2.7.6"
  }
 },
 "nbformat": 4,
 "nbformat_minor": 0
}